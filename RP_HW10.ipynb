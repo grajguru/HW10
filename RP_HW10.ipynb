{
 "cells": [
  {
   "cell_type": "markdown",
   "metadata": {},
   "source": [
    "# Garima Rajguru HW_10"
   ]
  },
  {
   "cell_type": "code",
   "execution_count": 1,
   "metadata": {},
   "outputs": [],
   "source": [
    "import sys\n",
    "import numpy as np\n",
    "from ipywidgets import interact, interactive\n",
    "import ipywidgets as widgets\n",
    "\n",
    "!{sys.executable} -m pip install --quiet matplotlib\n",
    "\n",
    "import matplotlib.pyplot as plt"
   ]
  },
  {
   "cell_type": "code",
   "execution_count": 2,
   "metadata": {},
   "outputs": [
    {
     "data": {
      "application/vnd.jupyter.widget-view+json": {
       "model_id": "6dfeecef4dd84d4480b11d15b7e1de4a",
       "version_major": 2,
       "version_minor": 0
      },
      "text/plain": [
       "interactive(children=(BoundedFloatText(value=0.3, description='epsilon', max=1.0, step=0.1), Output()), _dom_c…"
      ]
     },
     "metadata": {},
     "output_type": "display_data"
    },
    {
     "data": {
      "text/plain": [
       "<function __main__.plot_with_slope(epsilon)>"
      ]
     },
     "execution_count": 2,
     "metadata": {},
     "output_type": "execute_result"
    }
   ],
   "source": [
    "#Intensity\n",
    "\n",
    "import numpy as np\n",
    "import matplotlib.pyplot as plt\n",
    "tau_star = np.linspace(10,0)\n",
    "#epsilon = 0.3\n",
    "def plot_with_slope(epsilon):\n",
    "    tau = tau_star / np.sqrt(3. * epsilon)\n",
    "    plt.plot(tau, 1. - ((1. - np.sqrt(epsilon))/(1. + np.sqrt(epsilon)))*np.exp(-tau),\n",
    "    label = '$I^{(+)}/B$')\n",
    "    plt.plot(tau, 1. - np.exp(-tau), label = '$I^{(-)}/B$')\n",
    "    plt.xlim([10,0])\n",
    "    plt.ylim([0,1])\n",
    "    plt.xlabel('$\\\\tau$')\n",
    "    plt.ylabel(\"Legend\")\n",
    "    plt.legend()\n",
    "    title_str = '$\\epsilon$ = ' + str(epsilon)\n",
    "    plt.title(title_str)\n",
    "    plt.show()\n",
    "\n",
    "interact(plot_with_slope, epsilon = widgets.BoundedFloatText(value=0.3, min=0, max = 1, step=0.1, \n",
    "                                                       descriptions='epsilon', disabled=False))"
   ]
  },
  {
   "cell_type": "code",
   "execution_count": 3,
   "metadata": {},
   "outputs": [
    {
     "data": {
      "application/vnd.jupyter.widget-view+json": {
       "model_id": "ecd88d1a96414d6e8ec8b363618310ef",
       "version_major": 2,
       "version_minor": 0
      },
      "text/plain": [
       "interactive(children=(BoundedFloatText(value=0.3, description='epsilon', max=1.0, step=0.1), Output()), _dom_c…"
      ]
     },
     "metadata": {},
     "output_type": "display_data"
    },
    {
     "data": {
      "text/plain": [
       "<function __main__.plot_with_slope(epsilon)>"
      ]
     },
     "execution_count": 3,
     "metadata": {},
     "output_type": "execute_result"
    }
   ],
   "source": [
    "#Source\n",
    "\n",
    "import numpy as np\n",
    "import matplotlib.pyplot as plt\n",
    "tau_star = np.linspace(10,0)\n",
    "#epsilon = 0.3\n",
    "\n",
    "def plot_with_slope(epsilon):\n",
    "    tau = tau_star / np.sqrt(3. * epsilon)\n",
    "    plt.plot(tau , 1. - (1. - np.sqrt(epsilon))*np.exp(-tau), label = 'S/B')\n",
    "    plt.plot(tau, 1. - 1. / (1. + np.sqrt(epsilon))*np.exp(-tau), label = 'J/B')\n",
    "    plt.plot(tau, (1./np.sqrt(3.)) * (np.sqrt(epsilon)/(1.+np.sqrt(epsilon)))*np.exp(-\n",
    "    tau), label = 'H/B')\n",
    "    plt.plot(tau, np.exp(-tau), label = 'F/F(0)')\n",
    "    plt.xlim([10,0])\n",
    "    plt.ylim([0,1])\n",
    "    plt.xlabel('$\\\\tau$')\n",
    "    plt.ylabel(\"Legend\")\n",
    "    plt.legend()\n",
    "    title_str = '$\\epsilon$ = ' + str(epsilon)\n",
    "    plt.title(title_str)\n",
    "    plt.show()\n",
    "\n",
    "interact(plot_with_slope, epsilon = widgets.BoundedFloatText(value=0.3, min=0, max = 1, step=0.1, \n",
    "                                                       descriptions='epsilon', disabled=False))"
   ]
  },
  {
   "cell_type": "code",
   "execution_count": null,
   "metadata": {},
   "outputs": [],
   "source": []
  }
 ],
 "metadata": {
  "interpreter": {
   "hash": "fd578b525fe7fcca8a3ea11350d18bcbeb29af20bd1df15f6c5fd2c9cf111483"
  },
  "kernelspec": {
   "display_name": "Python 3",
   "language": "python",
   "name": "python3"
  },
  "language_info": {
   "codemirror_mode": {
    "name": "ipython",
    "version": 3
   },
   "file_extension": ".py",
   "mimetype": "text/x-python",
   "name": "python",
   "nbconvert_exporter": "python",
   "pygments_lexer": "ipython3",
   "version": "3.8.8"
  }
 },
 "nbformat": 4,
 "nbformat_minor": 2
}
