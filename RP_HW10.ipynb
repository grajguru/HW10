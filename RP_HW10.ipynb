{
 "cells": [
  {
   "cell_type": "markdown",
   "metadata": {},
   "source": [
    "# Garima Rajguru HW_10"
   ]
  },
  {
   "cell_type": "code",
   "execution_count": 1,
   "metadata": {},
   "outputs": [],
   "source": [
    "import sys\n",
    "import numpy as np\n",
    "from ipywidgets import interact, interactive\n",
    "import ipywidgets as widgets\n",
    "\n",
    "!{sys.executable} -m pip install --quiet matplotlib\n",
    "\n",
    "import matplotlib.pyplot as plt"
   ]
  },
  {
   "cell_type": "markdown",
   "metadata": {},
   "source": [
    "We plot the Intensity along (+) and (-) direction:\n",
    "$$I_\\nu^{(+)}=B_\\nu [1-\\frac{1-\\sqrt{\\epsilon_\\nu}}{1+\\sqrt{\\epsilon_\\nu}}e^{-\\tau_*}]$$\n",
    "$$I_\\nu^{(-)}=B_\\nu [1-e^{-\\tau_*}]$$"
   ]
  },
  {
   "cell_type": "code",
   "execution_count": 2,
   "metadata": {},
   "outputs": [
    {
     "data": {
      "application/vnd.jupyter.widget-view+json": {
       "model_id": "c0cf120cf93a4e578f7abcec7b9cc02c",
       "version_major": 2,
       "version_minor": 0
      },
      "text/plain": [
       "interactive(children=(BoundedFloatText(value=0.3, description='epsilon', max=1.0, min=0.01, step=0.01), Output…"
      ]
     },
     "metadata": {},
     "output_type": "display_data"
    },
    {
     "data": {
      "text/plain": [
       "<function __main__.plot_with_slope(epsilon)>"
      ]
     },
     "execution_count": 2,
     "metadata": {},
     "output_type": "execute_result"
    }
   ],
   "source": [
    "#Intensity\n",
    "\n",
    "import numpy as np\n",
    "import matplotlib.pyplot as plt\n",
    "tau_star = np.linspace(10,0)\n",
    "#epsilon = 0.3\n",
    "def plot_with_slope(epsilon):\n",
    "    tau = tau_star / np.sqrt(3. * epsilon)\n",
    "    plt.plot(tau, 1. - ((1. - np.sqrt(epsilon))/(1. + np.sqrt(epsilon)))*np.exp(-tau),\n",
    "    label = '$I^{(+)}/B$')\n",
    "    plt.plot(tau, 1. - np.exp(-tau), label = '$I^{(-)}/B$')\n",
    "    plt.xlim([10,0])\n",
    "    plt.ylim([0,1])\n",
    "    plt.xlabel('$\\\\tau$')\n",
    "    plt.ylabel(\"Legend\")\n",
    "    plt.legend()\n",
    "    title_str = '$\\epsilon$ = ' + str(epsilon)\n",
    "    plt.title(title_str)\n",
    "    plt.show()\n",
    "\n",
    "interact(plot_with_slope, epsilon = widgets.BoundedFloatText(value=0.3, min=0.01, max = 1, step=0.01, \n",
    "                                                       descriptions='epsilon', disabled=False))"
   ]
  },
  {
   "cell_type": "markdown",
   "metadata": {},
   "source": [
    "We plot quantities related to the source, e.g. Source Function, Mean Intensity, Flux, etc.\n",
    "$$S_\\nu=B_\\nu [1-e^{-\\tau_*}]+\\sqrt{\\epsilon_\\nu} B_\\nu e^{-\\tau_*}$$\n",
    "$$J_\\nu=B_\\nu [1-\\frac{e^{-\\tau_*}}{1+\\sqrt{\\epsilon_\\nu}}]$$\n",
    "$$H_\\nu=B_\\nu \\frac{1}{\\sqrt{3}} \\frac{\\sqrt{\\epsilon_\\nu}}{1+\\sqrt{\\epsilon_\\nu}} e^{-\\tau_*}$$\n",
    "$$F_\\nu=\\frac{4\\pi}{\\sqrt{3}} \\frac{\\sqrt{\\epsilon_\\nu}}{1+\\sqrt{\\epsilon_\\nu}} e^{-\\tau_*}$$\n",
    "$$F_\\nu=F_\\nu(0) e^{-\\tau_*}$$"
   ]
  },
  {
   "cell_type": "code",
   "execution_count": 3,
   "metadata": {},
   "outputs": [
    {
     "data": {
      "application/vnd.jupyter.widget-view+json": {
       "model_id": "564ba723fffd4fe8a29884ea9ed585cb",
       "version_major": 2,
       "version_minor": 0
      },
      "text/plain": [
       "interactive(children=(BoundedFloatText(value=0.3, description='epsilon', max=1.0, min=0.01, step=0.01), Output…"
      ]
     },
     "metadata": {},
     "output_type": "display_data"
    },
    {
     "data": {
      "text/plain": [
       "<function __main__.plot_with_slope(epsilon)>"
      ]
     },
     "execution_count": 3,
     "metadata": {},
     "output_type": "execute_result"
    }
   ],
   "source": [
    "def plot_with_slope(epsilon):\n",
    "    tau = tau_star / np.sqrt(3. * epsilon)\n",
    "    plt.plot(tau , 1. - (1. - np.sqrt(epsilon))*np.exp(-tau), label = 'S/B')\n",
    "    plt.plot(tau, 1. - 1. / (1. + np.sqrt(epsilon))*np.exp(-tau), label = 'J/B')\n",
    "    plt.plot(tau, (1./np.sqrt(3.)) * (np.sqrt(epsilon)/(1.+np.sqrt(epsilon)))*np.exp(-tau), label = 'H/B')\n",
    "    plt.plot(tau, np.exp(-tau), label = 'F/F(0)')\n",
    "    plt.xlim([10,0])\n",
    "    plt.ylim([0,1])\n",
    "    plt.xlabel('$\\\\tau$')\n",
    "    plt.ylabel(\"Legend\")\n",
    "    plt.legend()\n",
    "    title_str = '$\\epsilon$ = ' + str(epsilon)\n",
    "    plt.title(title_str)\n",
    "    plt.show()\n",
    "\n",
    "interact(plot_with_slope, epsilon = widgets.BoundedFloatText(value=0.3, min=0.01, max = 1, step=0.01, \n",
    "                                                       descriptions='epsilon', disabled=False))"
   ]
  },
  {
   "cell_type": "markdown",
   "metadata": {},
   "source": [
    "## HW_11"
   ]
  },
  {
   "cell_type": "markdown",
   "metadata": {},
   "source": [
    "This section studies the intensities in a 2-stream approximation slab of optical thickness $\\tau_0$.  The treatment is for a grey slab and the intensities scaled to the Planck function are:\n",
    "\n",
    "$$I^{(+)} / B = 1 - \\frac{1}{2} \\left\\{ \\frac{(1+\\sqrt{\\epsilon_\\nu})e^{\\tau_*}e^{-\\tau_{0*}/2}+(1-\\sqrt{\\epsilon_\\nu})e^{-\\tau_*}e^{\\tau_{0*}/2}}{\\sqrt{\\epsilon_\\nu} sinh(\\tau_{0*}/2)+cosh(\\tau_{0*}/2)} \\right\\}$$\n",
    "\n",
    "$$I^{(-)} / B = 1 - \\frac{1}{2} \\left\\{ \\frac{(1-\\sqrt{\\epsilon_\\nu})e^{\\tau_*}e^{-\\tau_{0*}/2}+(1+\\sqrt{\\epsilon_\\nu})e^{-\\tau_*}e^{\\tau_{0*}/2}}{\\sqrt{\\epsilon_\\nu} sinh(\\tau_{0*}/2)+cosh(\\tau_{0*}/2)} \\right\\}$$"
   ]
  },
  {
   "cell_type": "markdown",
   "metadata": {},
   "source": [
    "Plot the upward and downward intensity streams.  Vary the optical thickness $\\tau_0$ and the proportion of absorption $\\epsilon$."
   ]
  },
  {
   "cell_type": "code",
   "execution_count": 4,
   "metadata": {},
   "outputs": [
    {
     "data": {
      "application/vnd.jupyter.widget-view+json": {
       "model_id": "5aa32bdacdbc49d18c22200efd540881",
       "version_major": 2,
       "version_minor": 0
      },
      "text/plain": [
       "interactive(children=(BoundedFloatText(value=3.0, description='tau_0', max=50.0, min=0.1, step=0.1), BoundedFl…"
      ]
     },
     "metadata": {},
     "output_type": "display_data"
    },
    {
     "data": {
      "text/plain": [
       "<function __main__.plot_slab(tau_0, epsilon)>"
      ]
     },
     "execution_count": 4,
     "metadata": {},
     "output_type": "execute_result"
    }
   ],
   "source": [
    "def plot_slab(tau_0, epsilon):\n",
    "    tau_0_star = np.sqrt(3. * epsilon) * tau_0\n",
    "    tau_star = np.linspace(tau_0_star, 0, 100)\n",
    "    \n",
    "    plt.plot(\n",
    "        tau_star / tau_0_star,  \n",
    "        1. -\n",
    "        0.5 * (\n",
    "               np.exp(tau_star) * np.exp(-tau_0_star / 2.) * (1 + np.sqrt(epsilon)) + \n",
    "               np.exp(-tau_star) * np.exp(tau_0_star / 2.) * (1 - np.sqrt(epsilon))\n",
    "            )\n",
    "        / (np.sqrt(epsilon) * np.sinh(tau_0_star / 2.) + np.cosh(tau_0_star / 2.)),\n",
    "        label = '$I^{(+)}/B$'\n",
    "    )\n",
    "    \n",
    "    plt.plot(\n",
    "        tau_star / tau_0_star,  \n",
    "        1. -\n",
    "        0.5 * (\n",
    "               np.exp(tau_star) * np.exp(-tau_0_star / 2.) * (1 - np.sqrt(epsilon)) + \n",
    "               np.exp(-tau_star) * np.exp(tau_0_star / 2.) * (1 + np.sqrt(epsilon))\n",
    "            )\n",
    "        / (np.sqrt(epsilon) * np.sinh(tau_0_star / 2.) + np.cosh(tau_0_star / 2.)),\n",
    "        label = '$I^{(-)}/B$'\n",
    "    )\n",
    "    \n",
    "   \n",
    "    plt.xlim([1,0])\n",
    "    plt.ylim([0,1.1])\n",
    "    plt.xlabel('$\\\\tau_{*} / \\\\tau_{0*}$')\n",
    "    plt.ylabel(\"Scaled Intensity\")\n",
    "    plt.legend()\n",
    "    title_str = '$\\\\tau_0$ = {:.1f}, $\\epsilon$ = {:.2f}, '.format(tau_0, epsilon)\n",
    "    plt.title(title_str)\n",
    "    plt.show()\n",
    "\n",
    "interact(\n",
    "    plot_slab, \n",
    "    tau_0 = widgets.BoundedFloatText(value=3, min=0.1, max = 50, step=0.1, \n",
    "                                     descriptions='tau_0', disabled=False),\n",
    "    epsilon = widgets.BoundedFloatText(value=0.3, min=0.01, max = 1, step=0.01, \n",
    "                                       descriptions='epsilon', disabled=False)\n",
    ")\n",
    "         "
   ]
  },
  {
   "cell_type": "code",
   "execution_count": null,
   "metadata": {},
   "outputs": [],
   "source": []
  },
  {
   "cell_type": "code",
   "execution_count": null,
   "metadata": {},
   "outputs": [],
   "source": []
  }
 ],
 "metadata": {
  "interpreter": {
   "hash": "fd578b525fe7fcca8a3ea11350d18bcbeb29af20bd1df15f6c5fd2c9cf111483"
  },
  "kernelspec": {
   "display_name": "Python 3 (ipykernel)",
   "language": "python",
   "name": "python3"
  },
  "language_info": {
   "codemirror_mode": {
    "name": "ipython",
    "version": 3
   },
   "file_extension": ".py",
   "mimetype": "text/x-python",
   "name": "python",
   "nbconvert_exporter": "python",
   "pygments_lexer": "ipython3",
   "version": "3.11.4"
  }
 },
 "nbformat": 4,
 "nbformat_minor": 2
}
